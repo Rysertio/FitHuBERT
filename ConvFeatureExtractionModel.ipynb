{
 "cells": [
  {
   "cell_type": "code",
   "execution_count": 2,
   "id": "5e2a0708-f2f5-4675-9f9e-33b1a35c29d7",
   "metadata": {},
   "outputs": [],
   "source": [
    "import torch\n",
    "import torch.nn as nn\n",
    "from dataclasses import dataclass, field\n",
    "from typing import List, Tuple\n",
    "\n",
    "from fairseq.dataclass import ChoiceEnum, FairseqDataclass\n",
    "from fairseq.modules import (\n",
    "    Fp32GroupNorm,\n",
    "    Fp32LayerNorm,\n",
    "    GradMultiply,\n",
    "    GumbelVectorQuantizer,\n",
    "    LayerNorm,\n",
    "    MultiheadAttention,\n",
    "    SamePad,\n",
    "    TransposeLast,\n",
    ")"
   ]
  },
  {
   "cell_type": "code",
   "execution_count": 3,
   "id": "fa32f19c-4856-4fe8-ac02-1ddfe1a61c86",
   "metadata": {},
   "outputs": [],
   "source": [
    "EXTRACTOR_MODE_CHOICES = ChoiceEnum([\"default\", \"layer_norm\"])\n",
    "\n",
    "@dataclass\n",
    "class ConvFeatureExtractionModelConfig(FairseqDataclass):\n",
    "    extractor_mode: EXTRACTOR_MODE_CHOICES = field(\n",
    "        default=\"default\",\n",
    "        metadata={\n",
    "            \"help\": \"mode for feature extractor. default has a single group norm with d \"\n",
    "            \"groups in the first conv block, whereas layer_norm has layer norms in \"\n",
    "            \"every block (meant to use with normalize=True)\"\n",
    "        }\n",
    "    )\n",
    "        \n",
    "    conv_feature_layers: str = field(\n",
    "        default=\"[(512, 10, 5)] + [(512, 3, 2)] * 4 + [(512,2,2)] + [(512,2,2)]\",\n",
    "        metadata={\n",
    "            \"help\": \"string describing convolutional feature extraction layers in form of a python list that contains \"\n",
    "            \"[(dim, kernel_size, stride), ...]\"\n",
    "        }\n",
    "    )\n",
    "    \n",
    "    conv_bias: bool = field(\n",
    "        default=False,\n",
    "        metadata={\"help\": \"include bias in conv encoder\"}\n",
    "    )\n",
    "    \n",
    "    conv_dropout: float = field(\n",
    "        default=0.0,\n",
    "        metadata={\"help\": \"ratio of droput\"}\n",
    "    )"
   ]
  },
  {
   "cell_type": "code",
   "execution_count": 7,
   "id": "69a6f139-9e9b-4049-a848-ee8580bfb79a",
   "metadata": {
    "tags": []
   },
   "outputs": [],
   "source": [
    "class ConvFeatureExtractionModel(nn.Module):\n",
    "    def __init__(\n",
    "        self,\n",
    "        cfg: ConvFeatureExtractionModelConfig        \n",
    "    ):\n",
    "        super().__init__()\n",
    "        \n",
    "        mode = cfg.extractor_mode\n",
    "        conv_layers = eval(cfg.conv_feature_layers)\n",
    "        conv_bias = cfg.conv_bias\n",
    "        dropout = cfg.conv_dropout\n",
    "        \n",
    "        assert mode in {\"default\", \"layer_norm\"}\n",
    "\n",
    "        def block(\n",
    "            n_in,\n",
    "            n_out,\n",
    "            k,\n",
    "            stride,\n",
    "            is_layer_norm=False,\n",
    "            is_group_norm=False,\n",
    "            conv_bias=False,\n",
    "        ):\n",
    "            def make_conv():\n",
    "                conv = nn.Conv1d(n_in, n_out, k, stride=stride, bias=conv_bias)\n",
    "                nn.init.kaiming_normal_(conv.weight)\n",
    "                return conv\n",
    "\n",
    "            assert (\n",
    "                is_layer_norm and is_group_norm\n",
    "            ) == False, \"layer norm and group norm are exclusive\"\n",
    "\n",
    "            if is_layer_norm:\n",
    "                return nn.Sequential(\n",
    "                    make_conv(),\n",
    "                    nn.Dropout(p=dropout),\n",
    "                    nn.Sequential(\n",
    "                        TransposeLast(),\n",
    "                        Fp32LayerNorm(dim, elementwise_affine=True),\n",
    "                        TransposeLast(),\n",
    "                    ),\n",
    "                    nn.GELU(),\n",
    "                )\n",
    "            elif is_group_norm:\n",
    "                return nn.Sequential(\n",
    "                    make_conv(),\n",
    "                    nn.Dropout(p=dropout),\n",
    "                    Fp32GroupNorm(dim, dim, affine=True),\n",
    "                    nn.GELU(),\n",
    "                )\n",
    "            else:\n",
    "                return nn.Sequential(make_conv(), nn.Dropout(p=dropout), nn.GELU())\n",
    "\n",
    "        in_d = 1\n",
    "        self.conv_layers = nn.ModuleList()\n",
    "        for i, cl in enumerate(conv_layers):\n",
    "            assert len(cl) == 3, \"invalid conv definition: \" + str(cl)\n",
    "            (dim, k, stride) = cl\n",
    "\n",
    "            self.conv_layers.append(\n",
    "                block(\n",
    "                    in_d,\n",
    "                    dim,\n",
    "                    k,\n",
    "                    stride,\n",
    "                    is_layer_norm=mode == \"layer_norm\",\n",
    "                    is_group_norm=mode == \"default\" and i == 0,\n",
    "                    conv_bias=conv_bias,\n",
    "                )\n",
    "            )\n",
    "            in_d = dim\n",
    "\n",
    "    def forward(self, x):\n",
    "\n",
    "        # BxT -> BxCxT\n",
    "        x = x.unsqueeze(1)\n",
    "\n",
    "        for conv in self.conv_layers:\n",
    "            x = conv(x)\n",
    "\n",
    "        return x"
   ]
  },
  {
   "cell_type": "code",
   "execution_count": 18,
   "id": "20d23308-05e7-4601-bba6-524ab0273660",
   "metadata": {},
   "outputs": [
    {
     "data": {
      "text/plain": [
       "ConvFeatureExtractionModelConfig(_name=None, extractor_mode='default', conv_feature_layers='[(512, 10, 5)] + [(512, 5, 5)] * 4', conv_bias=False, conv_dropout=0.0)"
      ]
     },
     "execution_count": 18,
     "metadata": {},
     "output_type": "execute_result"
    }
   ],
   "source": [
    "config = ConvFeatureExtractionModelConfig(conv_feature_layers = '[(512, 10, 5)] + [(512, 5, 5)] * 4')\n",
    "#config = ConvFeatureExtractionModelConfig(extractor_mode = \n",
    "#                                          conv_feature_layers =\n",
    "#                                          conv_bias = \n",
    "#                                          conv_dropout = \n",
    "#)\n",
    "\n",
    "config"
   ]
  },
  {
   "cell_type": "code",
   "execution_count": 22,
   "id": "ea377247-5493-4339-a2ce-62dd93efef7a",
   "metadata": {},
   "outputs": [
    {
     "data": {
      "text/plain": [
       "[(512, 10, 5), (512, 5, 5), (512, 5, 5), (512, 5, 5), (512, 5, 5)]"
      ]
     },
     "execution_count": 22,
     "metadata": {},
     "output_type": "execute_result"
    }
   ],
   "source": [
    "eval(config.conv_feature_layers)"
   ]
  },
  {
   "cell_type": "code",
   "execution_count": 20,
   "id": "a8cbd8f3-1dc5-4ff3-b562-1f502c0d5f16",
   "metadata": {},
   "outputs": [],
   "source": [
    "model = ConvFeatureExtractionModel(config)"
   ]
  },
  {
   "cell_type": "code",
   "execution_count": 21,
   "id": "bd18fb0f-c435-4893-8500-94c6f084f8b0",
   "metadata": {},
   "outputs": [
    {
     "data": {
      "text/plain": [
       "ModuleList(\n",
       "  (0): Sequential(\n",
       "    (0): Conv1d(1, 512, kernel_size=(10,), stride=(5,), bias=False)\n",
       "    (1): Dropout(p=0.0, inplace=False)\n",
       "    (2): Fp32GroupNorm(512, 512, eps=1e-05, affine=True)\n",
       "    (3): GELU()\n",
       "  )\n",
       "  (1): Sequential(\n",
       "    (0): Conv1d(512, 512, kernel_size=(5,), stride=(5,), bias=False)\n",
       "    (1): Dropout(p=0.0, inplace=False)\n",
       "    (2): GELU()\n",
       "  )\n",
       "  (2): Sequential(\n",
       "    (0): Conv1d(512, 512, kernel_size=(5,), stride=(5,), bias=False)\n",
       "    (1): Dropout(p=0.0, inplace=False)\n",
       "    (2): GELU()\n",
       "  )\n",
       "  (3): Sequential(\n",
       "    (0): Conv1d(512, 512, kernel_size=(5,), stride=(5,), bias=False)\n",
       "    (1): Dropout(p=0.0, inplace=False)\n",
       "    (2): GELU()\n",
       "  )\n",
       "  (4): Sequential(\n",
       "    (0): Conv1d(512, 512, kernel_size=(5,), stride=(5,), bias=False)\n",
       "    (1): Dropout(p=0.0, inplace=False)\n",
       "    (2): GELU()\n",
       "  )\n",
       ")"
      ]
     },
     "execution_count": 21,
     "metadata": {},
     "output_type": "execute_result"
    }
   ],
   "source": [
    "model.conv_layers"
   ]
  },
  {
   "cell_type": "code",
   "execution_count": 7,
   "id": "b2931a12-5dcb-40f3-b0cf-65541f9e659a",
   "metadata": {},
   "outputs": [
    {
     "name": "stdout",
     "output_type": "stream",
     "text": [
      "Serving 'ConvFeatExtrc.onnx' at http://localhost:8080\n"
     ]
    },
    {
     "data": {
      "text/plain": [
       "('localhost', 8080)"
      ]
     },
     "execution_count": 7,
     "metadata": {},
     "output_type": "execute_result"
    }
   ],
   "source": [
    "import netron\n",
    "\n",
    "input_val = torch.randn(1, 10000)\n",
    "torch.onnx.export(model, input_val, \"ConvFeatExtrc.onnx\")\n",
    "\n",
    "netron.start(\"ConvFeatExtrc.onnx\")"
   ]
  },
  {
   "cell_type": "code",
   "execution_count": 9,
   "id": "b1504c87-e185-4f6b-b39d-5e589195f5e6",
   "metadata": {},
   "outputs": [
    {
     "data": {
      "text/plain": [
       "==========================================================================================\n",
       "Layer (type:depth-idx)                   Output Shape              Param #\n",
       "==========================================================================================\n",
       "ConvFeatureExtractionModel               --                        --\n",
       "├─ModuleList: 1-1                        --                        --\n",
       "│    └─Sequential: 2-1                   [1, 512, 1799]            --\n",
       "│    │    └─Conv1d: 3-1                  [1, 512, 1799]            5,632\n",
       "│    │    └─Dropout: 3-2                 [1, 512, 1799]            --\n",
       "│    │    └─Fp32GroupNorm: 3-3           [1, 512, 1799]            1,024\n",
       "│    │    └─GELU: 3-4                    [1, 512, 1799]            --\n",
       "│    └─Sequential: 2-2                   [1, 512, 899]             --\n",
       "│    │    └─Conv1d: 3-5                  [1, 512, 899]             786,944\n",
       "│    │    └─Dropout: 3-6                 [1, 512, 899]             --\n",
       "│    │    └─GELU: 3-7                    [1, 512, 899]             --\n",
       "│    └─Sequential: 2-3                   [1, 512, 449]             --\n",
       "│    │    └─Conv1d: 3-8                  [1, 512, 449]             786,944\n",
       "│    │    └─Dropout: 3-9                 [1, 512, 449]             --\n",
       "│    │    └─GELU: 3-10                   [1, 512, 449]             --\n",
       "│    └─Sequential: 2-4                   [1, 512, 224]             --\n",
       "│    │    └─Conv1d: 3-11                 [1, 512, 224]             786,944\n",
       "│    │    └─Dropout: 3-12                [1, 512, 224]             --\n",
       "│    │    └─GELU: 3-13                   [1, 512, 224]             --\n",
       "│    └─Sequential: 2-5                   [1, 512, 111]             --\n",
       "│    │    └─Conv1d: 3-14                 [1, 512, 111]             786,944\n",
       "│    │    └─Dropout: 3-15                [1, 512, 111]             --\n",
       "│    │    └─GELU: 3-16                   [1, 512, 111]             --\n",
       "│    └─Sequential: 2-6                   [1, 512, 55]              --\n",
       "│    │    └─Conv1d: 3-17                 [1, 512, 55]              524,800\n",
       "│    │    └─Dropout: 3-18                [1, 512, 55]              --\n",
       "│    │    └─GELU: 3-19                   [1, 512, 55]              --\n",
       "│    └─Sequential: 2-7                   [1, 512, 27]              --\n",
       "│    │    └─Conv1d: 3-20                 [1, 512, 27]              524,800\n",
       "│    │    └─Dropout: 3-21                [1, 512, 27]              --\n",
       "│    │    └─GELU: 3-22                   [1, 512, 27]              --\n",
       "==========================================================================================\n",
       "Total params: 4,204,032\n",
       "Trainable params: 4,204,032\n",
       "Non-trainable params: 0\n",
       "Total mult-adds (G): 1.38\n",
       "==========================================================================================\n",
       "Input size (MB): 0.04\n",
       "Forward/backward pass size (MB): 21.97\n",
       "Params size (MB): 16.82\n",
       "Estimated Total Size (MB): 38.82\n",
       "=========================================================================================="
      ]
     },
     "execution_count": 9,
     "metadata": {},
     "output_type": "execute_result"
    }
   ],
   "source": [
    "from torchinfo import summary\n",
    "\n",
    "summary(model, (1,9000))"
   ]
  },
  {
   "cell_type": "code",
   "execution_count": null,
   "id": "f45baced-211c-4562-be1c-2e10695ab33c",
   "metadata": {},
   "outputs": [],
   "source": []
  }
 ],
 "metadata": {
  "kernelspec": {
   "display_name": "Python 3",
   "language": "python",
   "name": "python3"
  },
  "language_info": {
   "codemirror_mode": {
    "name": "ipython",
    "version": 3
   },
   "file_extension": ".py",
   "mimetype": "text/x-python",
   "name": "python",
   "nbconvert_exporter": "python",
   "pygments_lexer": "ipython3",
   "version": "3.7.11"
  }
 },
 "nbformat": 4,
 "nbformat_minor": 5
}
