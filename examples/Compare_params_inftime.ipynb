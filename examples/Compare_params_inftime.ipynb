{
 "cells": [
  {
   "cell_type": "code",
   "execution_count": 2,
   "id": "32fddf18-61dc-4445-9c9b-093a3e26be1e",
   "metadata": {},
   "outputs": [
    {
     "name": "stderr",
     "output_type": "stream",
     "text": [
      "################################################################################\n",
      "### WARNING, path does not exist: KALDI_ROOT=/mnt/matylda5/iveselyk/Tools/kaldi-trunk\n",
      "###          (please add 'export KALDI_ROOT=<your_path>' in your $HOME/.profile)\n",
      "###          (or run as: KALDI_ROOT=<your_path> python <your_script>.py)\n",
      "################################################################################\n",
      "\n"
     ]
    },
    {
     "name": "stdout",
     "output_type": "stream",
     "text": [
      "[s3prl.downstream.experts] Warning: can not import s3prl.downstream.a2a-vc-vctk.expert: No module named 'resemblyzer'. Pass.\n",
      "Importing the dtw module. When using in academic works please cite:\n",
      "  T. Giorgino. Computing and Visualizing Dynamic Time Warping Alignments in R: The dtw Package.\n",
      "  J. Stat. Soft., doi:10.18637/jss.v031.i07.\n",
      "\n"
     ]
    }
   ],
   "source": [
    "import time\n",
    "import yaml\n",
    "import numpy as np\n",
    "import torchaudio\n",
    "from tqdm.auto import tqdm\n",
    "from torch.utils.data import DataLoader\n",
    "\n",
    "from s3prl.hub import distilhubert\n",
    "from modules.model import CustomStudentModelConfig, CustomStudentModel\n",
    "\n",
    "# Measure # of parameters in model\n",
    "def nparams(model):\n",
    "    #print(f\"{sum(p.numel() for p in model.parameters())} ({type(model).__name__})\")\n",
    "    return (sum(p.numel() for p in model.parameters()))"
   ]
  },
  {
   "cell_type": "code",
   "execution_count": 3,
   "id": "c102696c-0942-4764-91f1-1b9a506173d8",
   "metadata": {
    "tags": []
   },
   "outputs": [],
   "source": [
    "librosa_mel_cfg_path = \"./fitnet-torchaudio.yaml\"\n",
    "ch512_cfg_path = \"./fitnet-default.yaml\"\n",
    "ch256_cfg_path = \"./fitnet-ch256.yaml\"\n",
    "ch128_cfg_path = \"./fitnet-ch128.yaml\"\n",
    "\n",
    "with open(librosa_mel_cfg_path) as f:\n",
    "    cfg = yaml.load(f, Loader=yaml.FullLoader)\n",
    "    model_config = cfg['distiller']\n",
    "    librosa_mel_cfg = CustomStudentModelConfig(**model_config)\n",
    "    librosa_mel_model = CustomStudentModel(librosa_mel_cfg)\n",
    "    librosa_mel_model._disable_projection_heads()\n",
    "    \n",
    "with open(ch512_cfg_path) as f:\n",
    "    cfg = yaml.load(f, Loader=yaml.FullLoader)\n",
    "    model_config = cfg['distiller']\n",
    "    ch512_cfg = CustomStudentModelConfig(**model_config)\n",
    "    ch512_model = CustomStudentModel(ch512_cfg)\n",
    "    ch512_model._disable_projection_heads()\n",
    "    \n",
    "with open(ch256_cfg_path) as f:\n",
    "    cfg = yaml.load(f, Loader=yaml.FullLoader)\n",
    "    model_config = cfg['distiller']\n",
    "    ch256_cfg = CustomStudentModelConfig(**model_config)\n",
    "    ch256_model = CustomStudentModel(ch256_cfg)\n",
    "    ch256_model._disable_projection_heads()\n",
    "    \n",
    "with open(ch128_cfg_path) as f:\n",
    "    cfg = yaml.load(f, Loader=yaml.FullLoader)\n",
    "    model_config = cfg['distiller']\n",
    "    ch128_cfg = CustomStudentModelConfig(**model_config)\n",
    "    ch128_model = CustomStudentModel(ch128_cfg)\n",
    "    ch128_model._disable_projection_heads()"
   ]
  },
  {
   "cell_type": "code",
   "execution_count": 4,
   "id": "800b19fa-b0f0-4731-8eff-7a6c0253d057",
   "metadata": {},
   "outputs": [
    {
     "name": "stdout",
     "output_type": "stream",
     "text": [
      "DistilHuBERT has # of params: 23491200\n",
      "80dim mel fitnet has # of params: 19452768\n",
      "ch512 fitnet has # of params: 23861440\n",
      "ch256 fitnet has # of params: 20589248\n",
      "ch128 fitnet has # of params: 19739584\n"
     ]
    }
   ],
   "source": [
    "print (\"DistilHuBERT has # of params: \" + str(23491200))\n",
    "print (\"80dim mel fitnet has # of params: \" + str(nparams(librosa_mel_model)))\n",
    "print (\"ch512 fitnet has # of params: \" + str(nparams(ch512_model)))\n",
    "print (\"ch256 fitnet has # of params: \" + str(nparams(ch256_model)))\n",
    "print (\"ch128 fitnet has # of params: \" + str(nparams(ch128_model)))"
   ]
  },
  {
   "cell_type": "code",
   "execution_count": null,
   "id": "2d73ea52-662a-44ce-9aa4-77d3d68f8c82",
   "metadata": {},
   "outputs": [],
   "source": [
    "!pip install ipywidgets"
   ]
  },
  {
   "cell_type": "code",
   "execution_count": 4,
   "id": "f82a9881-03b0-4280-b05d-eae23f1fc58c",
   "metadata": {
    "tags": []
   },
   "outputs": [],
   "source": [
    "# Measure inference time and compare with DistilHuBERT for test data\n",
    "from s3prl.hub import distilhubert\n",
    "\n",
    "LS_PATH = \"../db/\"\n",
    "\n",
    "def inference_time(model):\n",
    "\n",
    "    test_data = torchaudio.datasets.LIBRISPEECH(LS_PATH, \"test-clean\", download=True)\n",
    "    test_dataloader = DataLoader(test_data, batch_size=1, num_workers=4)\n",
    "\n",
    "    inf_time = []\n",
    "\n",
    "    for i in range(5):\n",
    "        start_time = time.time()\n",
    "        pbar = tqdm(range(50))\n",
    "        for i, batch in enumerate(test_dataloader):\n",
    "            model(batch[0][0])\n",
    "            if i == 50:\n",
    "                break\n",
    "            pbar.update(1)\n",
    "\n",
    "        end_time = time.time()\n",
    "        inf_time.append(end_time - start_time)\n",
    "\n",
    "    print(f\"Inference Time: {np.mean(inf_time)}\")\n",
    "\n",
    "    # Compare with DistilHuBERT's inference time\n",
    "    inf_time_distilhubert = []\n",
    "    dh_model = distilhubert()\n",
    "    \n",
    "    for i in range(5):\n",
    "        start_time = time.time()\n",
    "        pbar = tqdm(range(50))\n",
    "        for i, batch in enumerate(test_dataloader):\n",
    "            dh_model([batch[0][0][0]])\n",
    "            if i == 50:\n",
    "                break\n",
    "            pbar.update(1)\n",
    "\n",
    "        end_time = time.time()\n",
    "        inf_time_distilhubert.append(end_time - start_time)\n",
    "\n",
    "    print(f\"Inference Time: {np.mean(inf_time_distilhubert)}\")\n",
    "    speed_up = np.mean(inf_time) / np.mean(inf_time_distilhubert)\n",
    "    print(f\"Speed Up: {speed_up}\")"
   ]
  },
  {
   "cell_type": "code",
   "execution_count": 5,
   "id": "e6b17d49-23b3-487b-956c-21b85b7844c6",
   "metadata": {
    "tags": []
   },
   "outputs": [
    {
     "data": {
      "application/vnd.jupyter.widget-view+json": {
       "model_id": "fea2dbbf60474bdebbb97abca4bc6fe8",
       "version_major": 2,
       "version_minor": 0
      },
      "text/plain": [
       "  0%|          | 0/50 [00:00<?, ?it/s]"
      ]
     },
     "metadata": {},
     "output_type": "display_data"
    },
    {
     "data": {
      "application/vnd.jupyter.widget-view+json": {
       "model_id": "6613c8272c96464284e87e20a0f0e946",
       "version_major": 2,
       "version_minor": 0
      },
      "text/plain": [
       "  0%|          | 0/50 [00:00<?, ?it/s]"
      ]
     },
     "metadata": {},
     "output_type": "display_data"
    },
    {
     "data": {
      "application/vnd.jupyter.widget-view+json": {
       "model_id": "31f0c5982a794446989725a52435ef2f",
       "version_major": 2,
       "version_minor": 0
      },
      "text/plain": [
       "  0%|          | 0/50 [00:00<?, ?it/s]"
      ]
     },
     "metadata": {},
     "output_type": "display_data"
    },
    {
     "data": {
      "application/vnd.jupyter.widget-view+json": {
       "model_id": "aae01dd75b764c569e50d26ea9122b80",
       "version_major": 2,
       "version_minor": 0
      },
      "text/plain": [
       "  0%|          | 0/50 [00:00<?, ?it/s]"
      ]
     },
     "metadata": {},
     "output_type": "display_data"
    },
    {
     "data": {
      "application/vnd.jupyter.widget-view+json": {
       "model_id": "2947e62a28ab4619b189899f8302d76c",
       "version_major": 2,
       "version_minor": 0
      },
      "text/plain": [
       "  0%|          | 0/50 [00:00<?, ?it/s]"
      ]
     },
     "metadata": {},
     "output_type": "display_data"
    },
    {
     "name": "stdout",
     "output_type": "stream",
     "text": [
      "Inference Time: 6.922431230545044\n",
      "Using cache found in /home/kangwook/.cache/torch/hub/s3prl_cache/b6df359653d40d65eccc3f921afac202d81adb697418d1fe04c09fd440489ec3\n",
      "for https://www.dropbox.com/s/hcfczqo5ao8tul3/disilhubert_ls960_4-8-12.ckpt?dl=0\n",
      "[UpstreamExpert] - Using the default upstream expert config\n",
      "[DistillerModel] - Expands the output dimension by 3 times\n",
      "[DistillerModel] - Pred layers: [4, 8, 12]\n",
      "[TransformerEncoder] - Attention type = original\n",
      "[DistillerModel] - Out layer type: expand-last\n",
      "[DistillerModel] - Inter dim = 768\n"
     ]
    },
    {
     "data": {
      "application/vnd.jupyter.widget-view+json": {
       "model_id": "41cc0492b560468a8b93c6260de5e150",
       "version_major": 2,
       "version_minor": 0
      },
      "text/plain": [
       "  0%|          | 0/50 [00:00<?, ?it/s]"
      ]
     },
     "metadata": {},
     "output_type": "display_data"
    },
    {
     "data": {
      "application/vnd.jupyter.widget-view+json": {
       "model_id": "7ea1c7a7bbbe41ab98c4c7c9e6d6e49c",
       "version_major": 2,
       "version_minor": 0
      },
      "text/plain": [
       "  0%|          | 0/50 [00:00<?, ?it/s]"
      ]
     },
     "metadata": {},
     "output_type": "display_data"
    },
    {
     "data": {
      "application/vnd.jupyter.widget-view+json": {
       "model_id": "f6f5c4395639446ab5beecfc6787e0e9",
       "version_major": 2,
       "version_minor": 0
      },
      "text/plain": [
       "  0%|          | 0/50 [00:00<?, ?it/s]"
      ]
     },
     "metadata": {},
     "output_type": "display_data"
    },
    {
     "data": {
      "application/vnd.jupyter.widget-view+json": {
       "model_id": "cd13cfcbc851434f928a1d646d8c9b08",
       "version_major": 2,
       "version_minor": 0
      },
      "text/plain": [
       "  0%|          | 0/50 [00:00<?, ?it/s]"
      ]
     },
     "metadata": {},
     "output_type": "display_data"
    },
    {
     "data": {
      "application/vnd.jupyter.widget-view+json": {
       "model_id": "079a27d8f25a4dd1a7bcd3715672eafe",
       "version_major": 2,
       "version_minor": 0
      },
      "text/plain": [
       "  0%|          | 0/50 [00:00<?, ?it/s]"
      ]
     },
     "metadata": {},
     "output_type": "display_data"
    },
    {
     "name": "stdout",
     "output_type": "stream",
     "text": [
      "Inference Time: 21.953469467163085\n",
      "Speed Up: 0.31532288055422286\n"
     ]
    }
   ],
   "source": [
    "inference_time(librosa_mel_model)"
   ]
  },
  {
   "cell_type": "code",
   "execution_count": 8,
   "id": "dbf7683b-91b6-434b-92ac-182fc52845d5",
   "metadata": {},
   "outputs": [
    {
     "data": {
      "application/vnd.jupyter.widget-view+json": {
       "model_id": "14716d66825148029a5612ee5080039b",
       "version_major": 2,
       "version_minor": 0
      },
      "text/plain": [
       "  0%|          | 0/50 [00:00<?, ?it/s]"
      ]
     },
     "metadata": {},
     "output_type": "display_data"
    },
    {
     "data": {
      "application/vnd.jupyter.widget-view+json": {
       "model_id": "fdeff63035b94c7c85fd82bde0874d28",
       "version_major": 2,
       "version_minor": 0
      },
      "text/plain": [
       "  0%|          | 0/50 [00:00<?, ?it/s]"
      ]
     },
     "metadata": {},
     "output_type": "display_data"
    },
    {
     "data": {
      "application/vnd.jupyter.widget-view+json": {
       "model_id": "86071f4c26fb4ce397175a5431ce1843",
       "version_major": 2,
       "version_minor": 0
      },
      "text/plain": [
       "  0%|          | 0/50 [00:00<?, ?it/s]"
      ]
     },
     "metadata": {},
     "output_type": "display_data"
    },
    {
     "data": {
      "application/vnd.jupyter.widget-view+json": {
       "model_id": "9f9b50cf7eb94a20a40d7e160d840ca2",
       "version_major": 2,
       "version_minor": 0
      },
      "text/plain": [
       "  0%|          | 0/50 [00:00<?, ?it/s]"
      ]
     },
     "metadata": {},
     "output_type": "display_data"
    },
    {
     "data": {
      "application/vnd.jupyter.widget-view+json": {
       "model_id": "92a85fd28a02430688a3e78c3490b2f3",
       "version_major": 2,
       "version_minor": 0
      },
      "text/plain": [
       "  0%|          | 0/50 [00:00<?, ?it/s]"
      ]
     },
     "metadata": {},
     "output_type": "display_data"
    },
    {
     "name": "stdout",
     "output_type": "stream",
     "text": [
      "Inference Time: 22.1890558719635\n",
      "Using cache found in /home/kangwook/.cache/torch/hub/s3prl_cache/b6df359653d40d65eccc3f921afac202d81adb697418d1fe04c09fd440489ec3\n",
      "for https://www.dropbox.com/s/hcfczqo5ao8tul3/disilhubert_ls960_4-8-12.ckpt?dl=0\n",
      "[UpstreamExpert] - Using the default upstream expert config\n",
      "[DistillerModel] - Expands the output dimension by 3 times\n",
      "[DistillerModel] - Pred layers: [4, 8, 12]\n",
      "[TransformerEncoder] - Attention type = original\n",
      "[DistillerModel] - Out layer type: expand-last\n",
      "[DistillerModel] - Inter dim = 768\n"
     ]
    },
    {
     "data": {
      "application/vnd.jupyter.widget-view+json": {
       "model_id": "f280c77719d74b1b81281cf685394611",
       "version_major": 2,
       "version_minor": 0
      },
      "text/plain": [
       "  0%|          | 0/50 [00:00<?, ?it/s]"
      ]
     },
     "metadata": {},
     "output_type": "display_data"
    },
    {
     "data": {
      "application/vnd.jupyter.widget-view+json": {
       "model_id": "aed6c4a0ca504c31b1c7ae565c4bf287",
       "version_major": 2,
       "version_minor": 0
      },
      "text/plain": [
       "  0%|          | 0/50 [00:00<?, ?it/s]"
      ]
     },
     "metadata": {},
     "output_type": "display_data"
    },
    {
     "data": {
      "application/vnd.jupyter.widget-view+json": {
       "model_id": "58019cf5d59d476d878b645db585fb0e",
       "version_major": 2,
       "version_minor": 0
      },
      "text/plain": [
       "  0%|          | 0/50 [00:00<?, ?it/s]"
      ]
     },
     "metadata": {},
     "output_type": "display_data"
    },
    {
     "data": {
      "application/vnd.jupyter.widget-view+json": {
       "model_id": "ff608df535c746a59513b47664bcf987",
       "version_major": 2,
       "version_minor": 0
      },
      "text/plain": [
       "  0%|          | 0/50 [00:00<?, ?it/s]"
      ]
     },
     "metadata": {},
     "output_type": "display_data"
    },
    {
     "data": {
      "application/vnd.jupyter.widget-view+json": {
       "model_id": "8e5b38af019547f2b4807b18815c0106",
       "version_major": 2,
       "version_minor": 0
      },
      "text/plain": [
       "  0%|          | 0/50 [00:00<?, ?it/s]"
      ]
     },
     "metadata": {},
     "output_type": "display_data"
    },
    {
     "name": "stdout",
     "output_type": "stream",
     "text": [
      "Inference Time: 21.64878454208374\n",
      "Speed Up: 1.0249561969093235\n"
     ]
    }
   ],
   "source": [
    "inference_time(ch512_model)"
   ]
  },
  {
   "cell_type": "code",
   "execution_count": 9,
   "id": "469a123c-02dc-4cdc-9f14-3fccd1702c15",
   "metadata": {},
   "outputs": [
    {
     "data": {
      "application/vnd.jupyter.widget-view+json": {
       "model_id": "f2a7ec7773844cacb193a9fab9dc7166",
       "version_major": 2,
       "version_minor": 0
      },
      "text/plain": [
       "  0%|          | 0/50 [00:00<?, ?it/s]"
      ]
     },
     "metadata": {},
     "output_type": "display_data"
    },
    {
     "data": {
      "application/vnd.jupyter.widget-view+json": {
       "model_id": "50afb62a77f841069f3c5f488b34d8bd",
       "version_major": 2,
       "version_minor": 0
      },
      "text/plain": [
       "  0%|          | 0/50 [00:00<?, ?it/s]"
      ]
     },
     "metadata": {},
     "output_type": "display_data"
    },
    {
     "data": {
      "application/vnd.jupyter.widget-view+json": {
       "model_id": "06f1699f92bf46e5931f3c5841d328de",
       "version_major": 2,
       "version_minor": 0
      },
      "text/plain": [
       "  0%|          | 0/50 [00:00<?, ?it/s]"
      ]
     },
     "metadata": {},
     "output_type": "display_data"
    },
    {
     "data": {
      "application/vnd.jupyter.widget-view+json": {
       "model_id": "8f4e8f50c5cd41ac9aa7abae561c19a8",
       "version_major": 2,
       "version_minor": 0
      },
      "text/plain": [
       "  0%|          | 0/50 [00:00<?, ?it/s]"
      ]
     },
     "metadata": {},
     "output_type": "display_data"
    },
    {
     "data": {
      "application/vnd.jupyter.widget-view+json": {
       "model_id": "74083178fdfc4c15ae126529e05c34b1",
       "version_major": 2,
       "version_minor": 0
      },
      "text/plain": [
       "  0%|          | 0/50 [00:00<?, ?it/s]"
      ]
     },
     "metadata": {},
     "output_type": "display_data"
    },
    {
     "name": "stdout",
     "output_type": "stream",
     "text": [
      "Inference Time: 12.282356405258179\n",
      "Using cache found in /home/kangwook/.cache/torch/hub/s3prl_cache/b6df359653d40d65eccc3f921afac202d81adb697418d1fe04c09fd440489ec3\n",
      "for https://www.dropbox.com/s/hcfczqo5ao8tul3/disilhubert_ls960_4-8-12.ckpt?dl=0\n",
      "[UpstreamExpert] - Using the default upstream expert config\n",
      "[DistillerModel] - Expands the output dimension by 3 times\n",
      "[DistillerModel] - Pred layers: [4, 8, 12]\n",
      "[TransformerEncoder] - Attention type = original\n",
      "[DistillerModel] - Out layer type: expand-last\n",
      "[DistillerModel] - Inter dim = 768\n"
     ]
    },
    {
     "data": {
      "application/vnd.jupyter.widget-view+json": {
       "model_id": "0353a1f1a4744993903beb8204b12d1c",
       "version_major": 2,
       "version_minor": 0
      },
      "text/plain": [
       "  0%|          | 0/50 [00:00<?, ?it/s]"
      ]
     },
     "metadata": {},
     "output_type": "display_data"
    },
    {
     "data": {
      "application/vnd.jupyter.widget-view+json": {
       "model_id": "df08fb7308974d888aeb7b8adf539826",
       "version_major": 2,
       "version_minor": 0
      },
      "text/plain": [
       "  0%|          | 0/50 [00:00<?, ?it/s]"
      ]
     },
     "metadata": {},
     "output_type": "display_data"
    },
    {
     "data": {
      "application/vnd.jupyter.widget-view+json": {
       "model_id": "4bf50c917d7546988069f6c78d5dab66",
       "version_major": 2,
       "version_minor": 0
      },
      "text/plain": [
       "  0%|          | 0/50 [00:00<?, ?it/s]"
      ]
     },
     "metadata": {},
     "output_type": "display_data"
    },
    {
     "data": {
      "application/vnd.jupyter.widget-view+json": {
       "model_id": "68c499789aed47fe8c7da39d22a23edf",
       "version_major": 2,
       "version_minor": 0
      },
      "text/plain": [
       "  0%|          | 0/50 [00:00<?, ?it/s]"
      ]
     },
     "metadata": {},
     "output_type": "display_data"
    },
    {
     "data": {
      "application/vnd.jupyter.widget-view+json": {
       "model_id": "5085f9d5ee3c4765884c3c8773c21bc6",
       "version_major": 2,
       "version_minor": 0
      },
      "text/plain": [
       "  0%|          | 0/50 [00:00<?, ?it/s]"
      ]
     },
     "metadata": {},
     "output_type": "display_data"
    },
    {
     "name": "stdout",
     "output_type": "stream",
     "text": [
      "Inference Time: 22.343941974639893\n",
      "Speed Up: 0.5496951441781628\n"
     ]
    }
   ],
   "source": [
    "inference_time(ch256_model)"
   ]
  },
  {
   "cell_type": "code",
   "execution_count": null,
   "id": "67687cd5-a1d5-4822-b2d4-70812c6e9d11",
   "metadata": {},
   "outputs": [],
   "source": []
  }
 ],
 "metadata": {
  "kernelspec": {
   "display_name": "py37",
   "language": "python",
   "name": "py37"
  },
  "language_info": {
   "codemirror_mode": {
    "name": "ipython",
    "version": 3
   },
   "file_extension": ".py",
   "mimetype": "text/x-python",
   "name": "python",
   "nbconvert_exporter": "python",
   "pygments_lexer": "ipython3",
   "version": "3.7.11"
  }
 },
 "nbformat": 4,
 "nbformat_minor": 5
}
