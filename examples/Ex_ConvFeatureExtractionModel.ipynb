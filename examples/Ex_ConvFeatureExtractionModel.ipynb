{
 "cells": [
  {
   "cell_type": "code",
   "execution_count": 4,
   "id": "b6279da9-dfa5-4fb6-88c0-abbbbef04f8e",
   "metadata": {},
   "outputs": [],
   "source": [
    "# Please insert path variable for all example files as below.\n",
    "\"\"\"\n",
    "import sys\n",
    "sys.path.insert(1, '/home/kangwook/CompressW2V2/modules/') \n",
    "\"\"\"\n",
    "from ConvFeatureExtractionModel import ConvFeatureExtractionModelConfig, ConvFeatureExtractionModel"
   ]
  },
  {
   "cell_type": "code",
   "execution_count": 3,
   "id": "011df1ca-6408-4c5a-a58c-3497d24fe229",
   "metadata": {},
   "outputs": [],
   "source": [
    "config = ConvFeatureExtractionModelConfig(conv_bias = True)"
   ]
  },
  {
   "cell_type": "code",
   "execution_count": 4,
   "id": "3a2ee989-230b-4d1a-bc9f-4c3f74677f7b",
   "metadata": {},
   "outputs": [],
   "source": [
    "model = ConvFeatureExtractionModel(config)"
   ]
  },
  {
   "cell_type": "code",
   "execution_count": 5,
   "id": "8a8fb73e-47db-43dd-ac0f-f9fe5c701e29",
   "metadata": {},
   "outputs": [
    {
     "data": {
      "text/plain": [
       "ConvFeatureExtractionModel(\n",
       "  (conv_layers): ModuleList(\n",
       "    (0): Sequential(\n",
       "      (0): Conv1d(1, 512, kernel_size=(10,), stride=(5,))\n",
       "      (1): Dropout(p=0.5, inplace=False)\n",
       "      (2): Fp32GroupNorm(512, 512, eps=1e-05, affine=True)\n",
       "      (3): GELU()\n",
       "    )\n",
       "    (1): Sequential(\n",
       "      (0): Conv1d(512, 512, kernel_size=(3,), stride=(2,))\n",
       "      (1): Dropout(p=0.5, inplace=False)\n",
       "      (2): GELU()\n",
       "    )\n",
       "    (2): Sequential(\n",
       "      (0): Conv1d(512, 512, kernel_size=(3,), stride=(2,))\n",
       "      (1): Dropout(p=0.5, inplace=False)\n",
       "      (2): GELU()\n",
       "    )\n",
       "    (3): Sequential(\n",
       "      (0): Conv1d(512, 512, kernel_size=(3,), stride=(2,))\n",
       "      (1): Dropout(p=0.5, inplace=False)\n",
       "      (2): GELU()\n",
       "    )\n",
       "    (4): Sequential(\n",
       "      (0): Conv1d(512, 512, kernel_size=(3,), stride=(2,))\n",
       "      (1): Dropout(p=0.5, inplace=False)\n",
       "      (2): GELU()\n",
       "    )\n",
       "    (5): Sequential(\n",
       "      (0): Conv1d(512, 512, kernel_size=(2,), stride=(2,))\n",
       "      (1): Dropout(p=0.5, inplace=False)\n",
       "      (2): GELU()\n",
       "    )\n",
       "    (6): Sequential(\n",
       "      (0): Conv1d(512, 512, kernel_size=(2,), stride=(2,))\n",
       "      (1): Dropout(p=0.5, inplace=False)\n",
       "      (2): GELU()\n",
       "    )\n",
       "  )\n",
       ")"
      ]
     },
     "execution_count": 5,
     "metadata": {},
     "output_type": "execute_result"
    }
   ],
   "source": [
    "model"
   ]
  },
  {
   "cell_type": "code",
   "execution_count": 6,
   "id": "1c2147a7-9074-4e97-bdb3-7b5e128e5e9c",
   "metadata": {},
   "outputs": [
    {
     "data": {
      "text/plain": [
       "==========================================================================================\n",
       "Layer (type:depth-idx)                   Output Shape              Param #\n",
       "==========================================================================================\n",
       "ConvFeatureExtractionModel               --                        --\n",
       "├─ModuleList: 1-1                        --                        --\n",
       "│    └─Sequential: 2-1                   [1, 512, 1799]            --\n",
       "│    │    └─Conv1d: 3-1                  [1, 512, 1799]            5,632\n",
       "│    │    └─Dropout: 3-2                 [1, 512, 1799]            --\n",
       "│    │    └─Fp32GroupNorm: 3-3           [1, 512, 1799]            1,024\n",
       "│    │    └─GELU: 3-4                    [1, 512, 1799]            --\n",
       "│    └─Sequential: 2-2                   [1, 512, 899]             --\n",
       "│    │    └─Conv1d: 3-5                  [1, 512, 899]             786,944\n",
       "│    │    └─Dropout: 3-6                 [1, 512, 899]             --\n",
       "│    │    └─GELU: 3-7                    [1, 512, 899]             --\n",
       "│    └─Sequential: 2-3                   [1, 512, 449]             --\n",
       "│    │    └─Conv1d: 3-8                  [1, 512, 449]             786,944\n",
       "│    │    └─Dropout: 3-9                 [1, 512, 449]             --\n",
       "│    │    └─GELU: 3-10                   [1, 512, 449]             --\n",
       "│    └─Sequential: 2-4                   [1, 512, 224]             --\n",
       "│    │    └─Conv1d: 3-11                 [1, 512, 224]             786,944\n",
       "│    │    └─Dropout: 3-12                [1, 512, 224]             --\n",
       "│    │    └─GELU: 3-13                   [1, 512, 224]             --\n",
       "│    └─Sequential: 2-5                   [1, 512, 111]             --\n",
       "│    │    └─Conv1d: 3-14                 [1, 512, 111]             786,944\n",
       "│    │    └─Dropout: 3-15                [1, 512, 111]             --\n",
       "│    │    └─GELU: 3-16                   [1, 512, 111]             --\n",
       "│    └─Sequential: 2-6                   [1, 512, 55]              --\n",
       "│    │    └─Conv1d: 3-17                 [1, 512, 55]              524,800\n",
       "│    │    └─Dropout: 3-18                [1, 512, 55]              --\n",
       "│    │    └─GELU: 3-19                   [1, 512, 55]              --\n",
       "│    └─Sequential: 2-7                   [1, 512, 27]              --\n",
       "│    │    └─Conv1d: 3-20                 [1, 512, 27]              524,800\n",
       "│    │    └─Dropout: 3-21                [1, 512, 27]              --\n",
       "│    │    └─GELU: 3-22                   [1, 512, 27]              --\n",
       "==========================================================================================\n",
       "Total params: 4,204,032\n",
       "Trainable params: 4,204,032\n",
       "Non-trainable params: 0\n",
       "Total mult-adds (G): 1.38\n",
       "==========================================================================================\n",
       "Input size (MB): 0.04\n",
       "Forward/backward pass size (MB): 21.97\n",
       "Params size (MB): 16.82\n",
       "Estimated Total Size (MB): 38.82\n",
       "=========================================================================================="
      ]
     },
     "execution_count": 6,
     "metadata": {},
     "output_type": "execute_result"
    }
   ],
   "source": [
    "from torchinfo import summary\n",
    "\n",
    "summary(model, (1,9000))"
   ]
  },
  {
   "cell_type": "code",
   "execution_count": null,
   "id": "d9154626-794a-4d0b-91ec-fa474d123ab1",
   "metadata": {},
   "outputs": [],
   "source": []
  }
 ],
 "metadata": {
  "kernelspec": {
   "display_name": "Python 3",
   "language": "python",
   "name": "python3"
  },
  "language_info": {
   "codemirror_mode": {
    "name": "ipython",
    "version": 3
   },
   "file_extension": ".py",
   "mimetype": "text/x-python",
   "name": "python",
   "nbconvert_exporter": "python",
   "pygments_lexer": "ipython3",
   "version": "3.7.11"
  }
 },
 "nbformat": 4,
 "nbformat_minor": 5
}
