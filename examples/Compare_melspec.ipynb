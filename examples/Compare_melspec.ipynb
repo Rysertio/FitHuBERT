{
 "cells": [
  {
   "cell_type": "code",
   "execution_count": 1,
   "metadata": {},
   "outputs": [
    {
     "name": "stderr",
     "output_type": "stream",
     "text": [
      "2022-03-08 22:04:00 | INFO | fairseq.tasks.text_to_speech | Please install tensorboardX: pip install tensorboardX\n"
     ]
    }
   ],
   "source": [
    "from modules.model import CustomStudentModelConfig, CustomStudentModel"
   ]
  },
  {
   "cell_type": "code",
   "execution_count": 6,
   "metadata": {},
   "outputs": [],
   "source": [
    "cfg = CustomStudentModelConfig(encoder_layers = 2)\n",
    "mel_cfg = CustomStudentModelConfig(n_mels = 80, encoder_layers = 2)"
   ]
  },
  {
   "cell_type": "code",
   "execution_count": 7,
   "metadata": {},
   "outputs": [],
   "source": [
    "model = CustomStudentModel(cfg)\n",
    "mel_model = CustomStudentModel(mel_cfg)"
   ]
  },
  {
   "cell_type": "code",
   "execution_count": 8,
   "metadata": {},
   "outputs": [
    {
     "data": {
      "text/plain": [
       "=========================================================================================================\n",
       "Layer (type:depth-idx)                                  Output Shape              Param #\n",
       "=========================================================================================================\n",
       "CustomStudentModel                                      --                        --\n",
       "├─ConvFeatureExtractionModel: 1                         --                        --\n",
       "│    └─ModuleList: 2-1                                  --                        --\n",
       "├─TransformerEncoder: 1                                 --                        --\n",
       "│    └─ModuleList: 2-2                                  --                        --\n",
       "├─ConvFeatureExtractionModel: 1-1                       [1, 512, 49]              --\n",
       "│    └─ModuleList: 2-1                                  --                        --\n",
       "│    │    └─Sequential: 3-1                             [1, 512, 3199]            6,144\n",
       "│    │    └─Sequential: 3-2                             [1, 512, 1599]            786,432\n",
       "│    │    └─Sequential: 3-3                             [1, 512, 799]             786,432\n",
       "│    │    └─Sequential: 3-4                             [1, 512, 399]             786,432\n",
       "│    │    └─Sequential: 3-5                             [1, 512, 199]             786,432\n",
       "│    │    └─Sequential: 3-6                             [1, 512, 99]              524,288\n",
       "│    │    └─Sequential: 3-7                             [1, 512, 49]              524,288\n",
       "├─LayerNorm: 1-2                                        [1, 49, 512]              1,024\n",
       "├─Linear: 1-3                                           [1, 49, 768]              393,984\n",
       "├─Dropout: 1-4                                          [1, 49, 768]              --\n",
       "├─TransformerEncoder: 1-5                               [1, 49, 768]              --\n",
       "│    └─Sequential: 2-3                                  [1, 768, 49]              --\n",
       "│    │    └─Conv1d: 3-8                                 [1, 768, 50]              4,719,488\n",
       "│    │    └─SamePad: 3-9                                [1, 768, 49]              --\n",
       "│    │    └─GELU: 3-10                                  [1, 768, 49]              --\n",
       "│    └─LayerNorm: 2-4                                   [1, 49, 768]              1,536\n",
       "│    └─ModuleList: 2-2                                  --                        --\n",
       "│    │    └─TransformerSentenceEncoderLayer: 3-11       [50, 1, 768]              7,087,872\n",
       "│    │    └─TransformerSentenceEncoderLayer: 3-12       [50, 1, 768]              7,087,872\n",
       "├─Sequential: 1-6                                       [1, 49, 2304]             --\n",
       "│    └─Linear: 2-5                                      [1, 49, 2304]             1,771,776\n",
       "│    └─GELU: 2-6                                        [1, 49, 2304]             --\n",
       "│    └─SplitLinear: 2-7                                 [1, 49, 2304]             1,771,776\n",
       "=========================================================================================================\n",
       "Total params: 27,035,776\n",
       "Trainable params: 27,035,776\n",
       "Non-trainable params: 0\n",
       "Total mult-adds (G): 6.79\n",
       "=========================================================================================================\n",
       "Input size (MB): 0.06\n",
       "Forward/backward pass size (MB): 48.76\n",
       "Params size (MB): 108.14\n",
       "Estimated Total Size (MB): 156.97\n",
       "========================================================================================================="
      ]
     },
     "execution_count": 8,
     "metadata": {},
     "output_type": "execute_result"
    }
   ],
   "source": [
    "from torchinfo import summary\n",
    "import torch\n",
    "\n",
    "summary(model, (1, 16000))"
   ]
  },
  {
   "cell_type": "code",
   "execution_count": 9,
   "metadata": {},
   "outputs": [
    {
     "data": {
      "text/plain": [
       "=========================================================================================================\n",
       "Layer (type:depth-idx)                                  Output Shape              Param #\n",
       "=========================================================================================================\n",
       "CustomStudentModel                                      --                        --\n",
       "├─TransformerEncoder: 1                                 --                        --\n",
       "│    └─ModuleList: 2-1                                  --                        --\n",
       "├─LayerNorm: 1-1                                        [1, 49, 80]               160\n",
       "├─Linear: 1-2                                           [1, 49, 768]              62,208\n",
       "├─Dropout: 1-3                                          [1, 49, 768]              --\n",
       "├─TransformerEncoder: 1-4                               [1, 49, 768]              --\n",
       "│    └─Sequential: 2-2                                  [1, 768, 49]              --\n",
       "│    │    └─Conv1d: 3-1                                 [1, 768, 50]              4,719,488\n",
       "│    │    └─SamePad: 3-2                                [1, 768, 49]              --\n",
       "│    │    └─GELU: 3-3                                   [1, 768, 49]              --\n",
       "│    └─LayerNorm: 2-3                                   [1, 49, 768]              1,536\n",
       "│    └─ModuleList: 2-1                                  --                        --\n",
       "│    │    └─TransformerSentenceEncoderLayer: 3-4        [50, 1, 768]              7,087,872\n",
       "│    │    └─TransformerSentenceEncoderLayer: 3-5        [50, 1, 768]              7,087,872\n",
       "├─Sequential: 1-5                                       [1, 49, 2304]             --\n",
       "│    └─Linear: 2-4                                      [1, 49, 2304]             1,771,776\n",
       "│    └─GELU: 2-5                                        [1, 49, 2304]             --\n",
       "│    └─SplitLinear: 2-6                                 [1, 49, 2304]             1,771,776\n",
       "=========================================================================================================\n",
       "Total params: 22,502,688\n",
       "Trainable params: 22,502,688\n",
       "Non-trainable params: 0\n",
       "Total mult-adds (G): 4.34\n",
       "=========================================================================================================\n",
       "Input size (MB): 0.06\n",
       "Forward/backward pass size (MB): 9.51\n",
       "Params size (MB): 90.01\n",
       "Estimated Total Size (MB): 99.58\n",
       "========================================================================================================="
      ]
     },
     "execution_count": 9,
     "metadata": {},
     "output_type": "execute_result"
    }
   ],
   "source": [
    "summary(mel_model, (1, 16000))"
   ]
  },
  {
   "cell_type": "code",
   "execution_count": null,
   "metadata": {},
   "outputs": [],
   "source": []
  },
  {
   "cell_type": "code",
   "execution_count": null,
   "metadata": {},
   "outputs": [],
   "source": []
  }
 ],
 "metadata": {
  "kernelspec": {
   "display_name": "Python 3",
   "language": "python",
   "name": "python3"
  },
  "language_info": {
   "codemirror_mode": {
    "name": "ipython",
    "version": 3
   },
   "file_extension": ".py",
   "mimetype": "text/x-python",
   "name": "python",
   "nbconvert_exporter": "python",
   "pygments_lexer": "ipython3",
   "version": "3.8.5"
  }
 },
 "nbformat": 4,
 "nbformat_minor": 4
}
